{
  "nbformat": 4,
  "nbformat_minor": 0,
  "metadata": {
    "kernelspec": {
      "display_name": "Python 3",
      "language": "python",
      "name": "python3"
    },
    "language_info": {
      "codemirror_mode": {
        "name": "ipython",
        "version": 3
      },
      "file_extension": ".py",
      "mimetype": "text/x-python",
      "name": "python",
      "nbconvert_exporter": "python",
      "pygments_lexer": "ipython3",
      "version": "3.7.3"
    },
    "colab": {
      "name": "노래가사_분석_실습예제_6조.ipynb",
      "provenance": [],
      "collapsed_sections": [],
      "toc_visible": true
    }
  },
  "cells": [
    {
      "cell_type": "markdown",
      "metadata": {
        "id": "yBsqlkiL9OVW",
        "colab_type": "text"
      },
      "source": [
        "노래가사 크롤링\n",
        "============\n",
        "\n",
        "- 가수별 인기순 노래가사 수집 \n",
        "- 크롤링 : Keyword, Artist, Title, Like, Lyrics, Datetime(발매일), Genre"
      ]
    },
    {
      "cell_type": "code",
      "metadata": {
        "id": "cY2ucfBi9OVc",
        "colab_type": "code",
        "colab": {}
      },
      "source": [
        "import requests\n",
        "from bs4 import BeautifulSoup\n",
        "import pandas as pd \n",
        "import numpy as np\n",
        "import seaborn as sns\n",
        "import matplotlib.pyplot as plt\n",
        "import matplotlib as mpl\n",
        "import time\n",
        "from tqdm import tqdm, trange \n",
        "%matplotlib inline"
      ],
      "execution_count": 0,
      "outputs": []
    },
    {
      "cell_type": "code",
      "metadata": {
        "id": "w3HWF0MlDLJL",
        "colab_type": "code",
        "outputId": "a3dd62bb-6155-4e32-f9a3-00af6136135b",
        "colab": {
          "base_uri": "https://localhost:8080/",
          "height": 70
        }
      },
      "source": [
        "# 그래프에서 한글표현을 위해 폰트를 설치합니다.\n",
        "%config InlineBackend.figure_format = 'retina'\n",
        "\n",
        "!apt -qq -y install fonts-nanum > /dev/null"
      ],
      "execution_count": 0,
      "outputs": [
        {
          "output_type": "stream",
          "text": [
            "\n",
            "WARNING: apt does not have a stable CLI interface. Use with caution in scripts.\n",
            "\n"
          ],
          "name": "stdout"
        }
      ]
    },
    {
      "cell_type": "code",
      "metadata": {
        "id": "LaP0pnXpD7fC",
        "colab_type": "code",
        "colab": {}
      },
      "source": [
        "import matplotlib.font_manager as fm\n",
        "fontpath = '/usr/share/fonts/truetype/nanum/NanumBarunGothic.ttf'\n",
        "font = fm.FontProperties(fname=fontpath, size=9)"
      ],
      "execution_count": 0,
      "outputs": []
    },
    {
      "cell_type": "code",
      "metadata": {
        "id": "uFSTmaikD-vR",
        "colab_type": "code",
        "colab": {}
      },
      "source": [
        "# 기본 글꼴 변경\n",
        "import matplotlib as mpl\n",
        "mpl.font_manager._rebuild()\n",
        "mpl.pyplot.rc('font', family='NanumBarunGothic')"
      ],
      "execution_count": 0,
      "outputs": []
    },
    {
      "cell_type": "code",
      "metadata": {
        "id": "5Kv3H_db9OVp",
        "colab_type": "code",
        "colab": {}
      },
      "source": [
        "#url sort = p 인기순 \n",
        "\n",
        "def get_suggestion_list(singers, pages):\n",
        "    suggestion_list = []\n",
        "    suggestion_album = []\n",
        "    singer_list = [] \n",
        "    for singer in singers: \n",
        "        for page in range(pages): \n",
        "            base_url = requests.get(\"https://music.bugs.co.kr/search/track?q=\" + singer+'&flac_only=false&target=ARTIST_TRACK_ALBUM&page='+str(page+1)+'&sort=P')\n",
        "            if base_url.status_code == 200 : \n",
        "                soup = BeautifulSoup(base_url.text, 'html.parser', from_encoding=\"utf8\")\n",
        "                tags = soup.select('#DEFAULT0 > table > tbody')[0].find_all('tr')\n",
        "                for tag in tags:\n",
        "                    suggestion_list.append('https://music.bugs.co.kr/track/'+tag['trackid'])\n",
        "                    suggestion_album.append('https://music.bugs.co.kr/album/'+tag['albumid'])\n",
        "                    singer_list.append(singer)\n",
        "            \n",
        "    return suggestion_list, suggestion_album, singer_list"
      ],
      "execution_count": 0,
      "outputs": []
    },
    {
      "cell_type": "code",
      "metadata": {
        "id": "jQHaqAZ29OVz",
        "colab_type": "code",
        "colab": {}
      },
      "source": [
        "def get_suggestion_content(url_list):\n",
        "    base_url2 = requests.get(url_list)\n",
        "    soup2 = BeautifulSoup(base_url2.text, 'html.parser', from_encoding=\"utf8\")\n",
        "    lyrics_list = [] \n",
        "    tags1 = soup2.select('#container > header > div')[0].find_all('h1')\n",
        "    title = tags1[0].get_text(strip=True).replace('(inst.)','')\n",
        "    tags2 = soup2.select('#container > section.sectionPadding.contents.lyrics > div > div')[0].find_all('xmp')\n",
        "    lyrics = tags2[0].get_text(strip=True).replace('\\r\\n',' ').replace('\\r',' ').replace('\\n',' ')\n",
        "    #container > section.sectionPadding.summaryInfo.summaryTrack > div > div.basicInfo > table > tbody > tr:nth-child(1) > th\n",
        "    tags3 = soup2.select('#container > section.sectionPadding.summaryInfo.summaryTrack > div > div.basicInfo > table > tbody')[0].find_all('td')\n",
        "    artist = tags3[0].get_text(strip=True)\n",
        "    \n",
        "    #container > section.sectionPadding.summaryInfo.summaryTrack > div > div.etcInfo > span > a > span > em\n",
        "    tags4 = soup2.select('#container > section.sectionPadding.summaryInfo.summaryTrack > div > div.etcInfo > span > a > span')[0].find_all('em')\n",
        "    like = tags4[0].get_text(strip=True).replace(',','')\n",
        "\n",
        "    \n",
        "    lyrics_list.append(artist)\n",
        "    lyrics_list.append(title)\n",
        "    lyrics_list.append(like)\n",
        "    lyrics_list.append(lyrics)\n",
        "        \n",
        "    return lyrics_list "
      ],
      "execution_count": 0,
      "outputs": []
    },
    {
      "cell_type": "code",
      "metadata": {
        "id": "v6r_zjCo9OV5",
        "colab_type": "code",
        "colab": {}
      },
      "source": [
        "def get_suggestion_album(url_list):\n",
        "    base_url2 = requests.get(url_list)\n",
        "    soup2 = BeautifulSoup(base_url2.text, 'html.parser', from_encoding=\"utf8\")\n",
        "    info = []\n",
        "    tags1 = soup2.select('#container > section.sectionPadding.summaryInfo.summaryAlbum > div > div.basicInfo > table')[0].find_all('time')\n",
        "    datetime = tags1[0].get_text(strip=True)\n",
        "    #container > section.sectionPadding.summaryInfo.summaryAlbum > div > div.basicInfo > table > tbody > tr:nth-child(4) > td\n",
        "    tags2 = soup2.select('#container > section.sectionPadding.summaryInfo.summaryAlbum > div > div.basicInfo > table > tbody')[0].find_all('td')\n",
        "    genre = tags2[4].get_text(strip=True)\n",
        "       \n",
        "    info.append(datetime)\n",
        "    info.append(genre)\n",
        "        \n",
        "    return info"
      ],
      "execution_count": 0,
      "outputs": []
    },
    {
      "cell_type": "code",
      "metadata": {
        "id": "3YIeGYrn9OV-",
        "colab_type": "code",
        "colab": {}
      },
      "source": [
        "def get_data(singer, pages): \n",
        "    data1= []\n",
        "    data2= [] \n",
        "    \n",
        "    suggestion_list = get_suggestion_list(singer,pages)[0]\n",
        "    info_list = get_suggestion_list(singer,pages)[1]  \n",
        "    singer_list = get_suggestion_list(singer,pages)[2]\n",
        "    \n",
        "    for i, suggestion in tqdm(enumerate(suggestion_list)):\n",
        "        s = get_suggestion_content(suggestion)\n",
        "        data1.append(s)\n",
        "    \n",
        "    for i, info in tqdm(enumerate(info_list)):\n",
        "        s = get_suggestion_album(info)\n",
        "        data2.append(s)\n",
        "        \n",
        "    data1 = pd.DataFrame(data1, columns=[\"Artist\",\"Title\",\"Like\",\"Lyrics\"])\n",
        "    data2 = pd.DataFrame(data2, columns=[\"Datetime\",\"Genre\"])\n",
        "    data3 = pd.DataFrame(singer_list, columns=[\"Keyword\"])\n",
        "    data = pd.concat([data3, data1, data2], axis = 1)\n",
        "    \n",
        "    return data "
      ],
      "execution_count": 0,
      "outputs": []
    },
    {
      "cell_type": "code",
      "metadata": {
        "scrolled": false,
        "id": "PjaBO7vO9OWD",
        "colab_type": "code",
        "outputId": "0ce8def6-48ef-4d44-e299-d164d623649a",
        "colab": {
          "base_uri": "https://localhost:8080/",
          "height": 107
        }
      },
      "source": [
        "singer = [\"아이유\"]\n",
        "data = get_data(singer, 1) #페이지1에 곡 50개 "
      ],
      "execution_count": 0,
      "outputs": [
        {
          "output_type": "stream",
          "text": [
            "/usr/local/lib/python3.6/dist-packages/bs4/__init__.py:179: UserWarning: You provided Unicode markup but also provided a value for from_encoding. Your from_encoding will be ignored.\n",
            "  warnings.warn(\"You provided Unicode markup but also provided a value for from_encoding. Your from_encoding will be ignored.\")\n",
            "50it [01:07,  1.32s/it]\n",
            "50it [01:01,  1.28s/it]\n"
          ],
          "name": "stderr"
        }
      ]
    },
    {
      "cell_type": "markdown",
      "metadata": {
        "id": "eKhXy7q19OWN",
        "colab_type": "text"
      },
      "source": [
        "동일 곡 중복제거 "
      ]
    },
    {
      "cell_type": "code",
      "metadata": {
        "id": "taGfaAPT9OWO",
        "colab_type": "code",
        "colab": {}
      },
      "source": [
        "#data = data.drop_duplicates()"
      ],
      "execution_count": 0,
      "outputs": []
    },
    {
      "cell_type": "code",
      "metadata": {
        "scrolled": true,
        "id": "Dmy39mq-9OWH",
        "colab_type": "code",
        "colab": {}
      },
      "source": [
        "data.head(3)"
      ],
      "execution_count": 0,
      "outputs": []
    },
    {
      "cell_type": "markdown",
      "metadata": {
        "id": "AuyV3bMR9OWT",
        "colab_type": "text"
      },
      "source": [
        "데이터 전처리"
      ]
    },
    {
      "cell_type": "markdown",
      "metadata": {
        "id": "qQbFeY1o9OWd",
        "colab_type": "text"
      },
      "source": [
        "Quiz\n",
        "====\n",
        "1. Genre별 분석 \n",
        " - 가장 많은 노래가 발매 된 장르는 ? \n",
        " - 가장 많은 Like를 받은 장르는 ? \n",
        "\n",
        "\n",
        "2. 타가수와 콜라보여부 \n",
        " - 타가수와 콜라보를 진행한 노래와 아닌 노래 중 더 높은 Like를 받은 노래는? \n",
        " \n",
        "\n",
        "3. 발매일 \n",
        " - 가장 많은 노래가 발매 된 연월은 ? \n",
        "\n",
        "\n",
        "4. 노래가사에서 가장 많이 언급된 단어는?  \n",
        "\n",
        "\n",
        "5. TOP1 언급 단어와 유사도가 가장 높은 노래는? \n"
      ]
    },
    {
      "cell_type": "code",
      "metadata": {
        "id": "ZuR5wdQp9OWU",
        "colab_type": "code",
        "colab": {}
      },
      "source": [
        "#문자형을 숫자형으로 변경 \n",
        "data['Like'] = data['Like'].astype(int)\n",
        "#문자형을 데이터타입으로 변경 \n",
        "data['Datetime'] = pd.to_datetime(data['Datetime'])\n",
        "data['Date-month'] = data['Datetime'].dt.year.astype(str) +\"-\"+ data['Datetime'].dt.month.astype(str)\n",
        "data['Group'] = data['Artist'] != '아이유(IU)' \n",
        "data['Group'] = data['Group'].astype(str)"
      ],
      "execution_count": 0,
      "outputs": []
    },
    {
      "cell_type": "code",
      "metadata": {
        "id": "Qi2K75BR9OWZ",
        "colab_type": "code",
        "colab": {}
      },
      "source": [
        "data.info()"
      ],
      "execution_count": 0,
      "outputs": []
    },
    {
      "cell_type": "markdown",
      "metadata": {
        "id": "zvaQPCOQ9OWe",
        "colab_type": "text"
      },
      "source": [
        "Q1) 노래 Genre별 분석 \n",
        "-------------------------------"
      ]
    },
    {
      "cell_type": "code",
      "metadata": {
        "id": "2GO1hYSH9OWf",
        "colab_type": "code",
        "colab": {}
      },
      "source": [
        "figure,(ax1, ax2) = plt.subplots(1, 2)\n",
        "figure.set_size_inches(15,10)\n",
        "# 장르별 노래수\n",
        "sns.countplot(data=data, y=\"Genre\", ax=ax1)\n",
        "# 장르별 like수\n",
        "sns.barplot(data=data, x=\"Like\", y=\"Genre\", ax=ax2)"
      ],
      "execution_count": 0,
      "outputs": []
    },
    {
      "cell_type": "markdown",
      "metadata": {
        "id": "Fi3Bt16V9OWj",
        "colab_type": "text"
      },
      "source": [
        "Q2) 타가수와 콜라보 여부에 따른 선호도 비교 \n",
        "-------------------------------------------------------------"
      ]
    },
    {
      "cell_type": "code",
      "metadata": {
        "id": "bh7Y0Uf89OWk",
        "colab_type": "code",
        "colab": {}
      },
      "source": [
        "figure,(ax1, ax2) = plt.subplots(1, 2)\n",
        "figure.set_size_inches(15,5)\n",
        "# 듀엣 / 솔로 \n",
        "sns.countplot(data=data, y=\"Group\", ax=ax1)\n",
        "# 장르별 like수\n",
        "sns.barplot(data=data, x=\"Like\", y=\"Group\", ax=ax2)"
      ],
      "execution_count": 0,
      "outputs": []
    },
    {
      "cell_type": "markdown",
      "metadata": {
        "id": "Keh6Up1D9OWn",
        "colab_type": "text"
      },
      "source": [
        "Q3) 기준년월별 노래 발매현황\n",
        "--------------------------------------------------------"
      ]
    },
    {
      "cell_type": "code",
      "metadata": {
        "id": "beUFXzAC9OWp",
        "colab_type": "code",
        "colab": {}
      },
      "source": [
        "plt.figure(figsize=(18,5))\n",
        "plt.title('월별 발매 수')\n",
        "sns.countplot(data=data.sort_values(by=\"Date-month\", ascending=True), x=\"Date-month\")"
      ],
      "execution_count": 0,
      "outputs": []
    },
    {
      "cell_type": "code",
      "metadata": {
        "id": "2IcL3wLh_Trz",
        "colab_type": "code",
        "outputId": "029ffbcd-32f7-445e-dacc-c68e8806a5b1",
        "colab": {
          "base_uri": "https://localhost:8080/",
          "height": 52
        }
      },
      "source": [
        "#colab에서 실행 시 konlpy 설치\n",
        "!pip3 install konlpy\n",
        "\n",
        "!JAVA_HOME=\"/usr/lib/jvm/java-8-openjdk-amd64\""
      ],
      "execution_count": 0,
      "outputs": [
        {
          "output_type": "stream",
          "text": [
            "Requirement already satisfied: konlpy in /usr/local/lib/python3.6/dist-packages (0.5.1)\n",
            "Requirement already satisfied: JPype1>=0.5.7 in /usr/local/lib/python3.6/dist-packages (from konlpy) (0.7.0)\n"
          ],
          "name": "stdout"
        }
      ]
    },
    {
      "cell_type": "markdown",
      "metadata": {
        "id": "_9aQfDT99OWv",
        "colab_type": "text"
      },
      "source": [
        "Q4) 노래가사 언급 단어 분석\n",
        "--------------------------------------"
      ]
    },
    {
      "cell_type": "code",
      "metadata": {
        "id": "BMSQqDpU9OWw",
        "colab_type": "code",
        "colab": {}
      },
      "source": [
        "from konlpy.tag import Kkma\n",
        "tagger = Kkma()"
      ],
      "execution_count": 0,
      "outputs": []
    },
    {
      "cell_type": "code",
      "metadata": {
        "id": "IUfEfSVB9OW0",
        "colab_type": "code",
        "colab": {}
      },
      "source": [
        "stop_words = \"내 나 너 거 날 때 수 뭐 위 오 번 둘 안 널 가 이 은 인\"\n",
        "stop_words = stop_words.split(' ')\n",
        "stop_words"
      ],
      "execution_count": 0,
      "outputs": []
    },
    {
      "cell_type": "code",
      "metadata": {
        "id": "C1rpfLQD9OW4",
        "colab_type": "code",
        "colab": {}
      },
      "source": [
        "from collections import Counter\n",
        "def get_wordcloud(keyword, value, columns, n):\n",
        "    lyrics = list(data.loc[data[keyword] == value, columns])\n",
        "    word_list = []\n",
        "    for post in lyrics:\n",
        "        for noun in tagger.nouns(post):\n",
        "            if noun not in stop_words:\n",
        "                word_list.append(noun)\n",
        "    num_top_nouns = n\n",
        "    nouns_counter = Counter(word_list)\n",
        "    top_nouns = dict(nouns_counter.most_common(num_top_nouns))\n",
        "    \n",
        "    return top_nouns "
      ],
      "execution_count": 0,
      "outputs": []
    },
    {
      "cell_type": "code",
      "metadata": {
        "id": "Qe45Ku-u9OW7",
        "colab_type": "code",
        "colab": {}
      },
      "source": [
        "top_nouns_lyrics = get_wordcloud(\"Keyword\",\"아이유\",\"Lyrics\",30)"
      ],
      "execution_count": 0,
      "outputs": []
    },
    {
      "cell_type": "code",
      "metadata": {
        "id": "iVYQgqAs9OW-",
        "colab_type": "code",
        "colab": {}
      },
      "source": [
        "plt.figure(figsize=(20,5))\n",
        "sns.barplot(y=list(top_nouns_lyrics.values()), x=list(top_nouns_lyrics.keys()))"
      ],
      "execution_count": 0,
      "outputs": []
    },
    {
      "cell_type": "markdown",
      "metadata": {
        "id": "xglJVbOO9OXE",
        "colab_type": "text"
      },
      "source": [
        "[Wordcloud 표현] \n"
      ]
    },
    {
      "cell_type": "markdown",
      "metadata": {
        "id": "ydTyNvlA9OXF",
        "colab_type": "text"
      },
      "source": [
        "1) 노래가사 언급 TOP30 기준 "
      ]
    },
    {
      "cell_type": "code",
      "metadata": {
        "id": "DaxxE2XW9OXH",
        "colab_type": "code",
        "colab": {}
      },
      "source": [
        "from wordcloud import WordCloud"
      ],
      "execution_count": 0,
      "outputs": []
    },
    {
      "cell_type": "code",
      "metadata": {
        "id": "XoKvv_Fv9OXK",
        "colab_type": "code",
        "colab": {}
      },
      "source": [
        "wc = WordCloud(background_color=\"white\", font_path='/usr/share/fonts/truetype/nanum/NanumBarunGothic.ttf')"
      ],
      "execution_count": 0,
      "outputs": []
    },
    {
      "cell_type": "code",
      "metadata": {
        "id": "zSATvu4W9OXO",
        "colab_type": "code",
        "colab": {}
      },
      "source": [
        "wc.generate_from_frequencies(top_nouns_lyrics)\n",
        "plt.axis('off')\n",
        "plt.title(\"아이유 노래가사 Wordcloud\")\n",
        "plt.imshow(wc)"
      ],
      "execution_count": 0,
      "outputs": []
    },
    {
      "cell_type": "markdown",
      "metadata": {
        "id": "MP4_mkra9OXR",
        "colab_type": "text"
      },
      "source": [
        "2) 노래가사 (Genre=팝) TOP 30 기준"
      ]
    },
    {
      "cell_type": "code",
      "metadata": {
        "id": "2WJqyt779OXS",
        "colab_type": "code",
        "colab": {}
      },
      "source": [
        "top_nouns = get_wordcloud(\"Genre\",\"팝\",\"Lyrics\",30)\n",
        "wc.generate_from_frequencies(top_nouns)\n",
        "plt.axis('off')\n",
        "plt.title(\"발라드 Wordcloud\")\n",
        "plt.imshow(wc)"
      ],
      "execution_count": 0,
      "outputs": []
    },
    {
      "cell_type": "markdown",
      "metadata": {
        "id": "PMoQStkA9OXW",
        "colab_type": "text"
      },
      "source": [
        "Q5) 언급량 TOP1 단어와 유사도가 가장 높은 노래는?\n",
        "-----------------------------------------------------------------------"
      ]
    },
    {
      "cell_type": "code",
      "metadata": {
        "id": "tcm0fLiY9OXX",
        "colab_type": "code",
        "colab": {}
      },
      "source": [
        "top_nouns = get_wordcloud(\"Keyword\",\"아이유\",\"Lyrics\",20)"
      ],
      "execution_count": 0,
      "outputs": []
    },
    {
      "cell_type": "code",
      "metadata": {
        "id": "ZfQfop5h9OXa",
        "colab_type": "code",
        "colab": {}
      },
      "source": [
        "from sklearn.feature_extraction.text import TfidfVectorizer\n",
        "tfidv = TfidfVectorizer().fit(top_nouns)"
      ],
      "execution_count": 0,
      "outputs": []
    },
    {
      "cell_type": "code",
      "metadata": {
        "id": "2rMiOiK69OXe",
        "colab_type": "code",
        "colab": {}
      },
      "source": [
        "features = tfidv.get_feature_names()"
      ],
      "execution_count": 0,
      "outputs": []
    },
    {
      "cell_type": "code",
      "metadata": {
        "id": "IMPajXJB9OXh",
        "colab_type": "code",
        "colab": {}
      },
      "source": [
        "tfidv_data = pd.DataFrame(tfidv.transform(data['Lyrics']).toarray(), columns = features)"
      ],
      "execution_count": 0,
      "outputs": []
    },
    {
      "cell_type": "code",
      "metadata": {
        "id": "ZLcj1d6g9OXl",
        "colab_type": "code",
        "colab": {}
      },
      "source": [
        "data_f = pd.concat([data[['Artist','Title']], tfidv_data], axis =1)"
      ],
      "execution_count": 0,
      "outputs": []
    },
    {
      "cell_type": "code",
      "metadata": {
        "id": "FVk_vlyL9OXo",
        "colab_type": "code",
        "colab": {}
      },
      "source": [
        "data_f.head(10)"
      ],
      "execution_count": 0,
      "outputs": []
    },
    {
      "cell_type": "code",
      "metadata": {
        "id": "3PtIq-O69OXt",
        "colab_type": "code",
        "colab": {}
      },
      "source": [
        "data_f.sort_values(by='사랑', ascending = False).head(5)"
      ],
      "execution_count": 0,
      "outputs": []
    },
    {
      "cell_type": "code",
      "metadata": {
        "id": "FUGPEE9m9OXy",
        "colab_type": "code",
        "colab": {}
      },
      "source": [
        "list(data.loc[data['Keyword'] == '아이유', 'Lyrics'])[5]"
      ],
      "execution_count": 0,
      "outputs": []
    },
    {
      "cell_type": "code",
      "metadata": {
        "id": "IEJKx_d5XPgR",
        "colab_type": "code",
        "colab": {}
      },
      "source": [
        ""
      ],
      "execution_count": 0,
      "outputs": []
    }
  ]
}